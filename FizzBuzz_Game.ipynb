{
  "nbformat": 4,
  "nbformat_minor": 0,
  "metadata": {
    "colab": {
      "name": "FizzBuzz Game",
      "provenance": [],
      "authorship_tag": "ABX9TyPr+EqwtzoknHitZ5v0/QPU",
      "include_colab_link": true
    },
    "kernelspec": {
      "name": "python3",
      "display_name": "Python 3"
    }
  },
  "cells": [
    {
      "cell_type": "markdown",
      "metadata": {
        "id": "view-in-github",
        "colab_type": "text"
      },
      "source": [
        "<a href=\"https://colab.research.google.com/github/MKCodeTS/Python-Games-/blob/main/FizzBuzz_Game.ipynb\" target=\"_parent\"><img src=\"https://colab.research.google.com/assets/colab-badge.svg\" alt=\"Open In Colab\"/></a>"
      ]
    },
    {
      "cell_type": "code",
      "metadata": {
        "colab": {
          "base_uri": "https://localhost:8080/"
        },
        "id": "qHEy4mV2I3n-",
        "outputId": "c43e6a67-f384-4eb9-f25f-b5aa162f8c1f"
      },
      "source": [
        "def fizzbuzz_game(input):\n",
        "  if (input % 3==0) and (input % 5 ==0):\n",
        "    return 'FuzzBuzz'\n",
        "  if input % 3 ==0:\n",
        "    return 'Fizz'\n",
        "  if input % 5 ==0:\n",
        "    return 'Buzz'\n",
        "  return input \n",
        "\n",
        "\n",
        "print(fizzbuzz_game(123))      \n",
        "\n"
      ],
      "execution_count": 4,
      "outputs": [
        {
          "output_type": "stream",
          "text": [
            "Fizz\n"
          ],
          "name": "stdout"
        }
      ]
    },
    {
      "cell_type": "code",
      "metadata": {
        "colab": {
          "base_uri": "https://localhost:8080/"
        },
        "id": "iN39-3ujKelL",
        "outputId": "49e035ef-130d-453b-8177-eaf81de1c957"
      },
      "source": [
        "starting_number_for_looping=1\n",
        "upper_number_for_looping=51\n",
        "modulo_number_one=4\n",
        "modulo_number_two=7\n",
        "\n",
        "for i in range(starting_number_for_looping, upper_number_for_looping):\n",
        "    if i % modulo_number_one == 0 and i % modulo_number_two == 0:\n",
        "        print ('FizzBuzz')\n",
        "    elif i % modulo_number_one == 0:\n",
        "        print ('Fizz')\n",
        "    elif i % modulo_number_two == 0:\n",
        "        print ('Buzz')\n",
        "    else:\n",
        "        print (str(i))"
      ],
      "execution_count": 6,
      "outputs": [
        {
          "output_type": "stream",
          "text": [
            "1\n",
            "2\n",
            "3\n",
            "Fizz\n",
            "5\n",
            "6\n",
            "Buzz\n",
            "Fizz\n",
            "9\n",
            "10\n",
            "11\n",
            "Fizz\n",
            "13\n",
            "Buzz\n",
            "15\n",
            "Fizz\n",
            "17\n",
            "18\n",
            "19\n",
            "Fizz\n",
            "Buzz\n",
            "22\n",
            "23\n",
            "Fizz\n",
            "25\n",
            "26\n",
            "27\n",
            "FizzBuzz\n",
            "29\n",
            "30\n",
            "31\n",
            "Fizz\n",
            "33\n",
            "34\n",
            "Buzz\n",
            "Fizz\n",
            "37\n",
            "38\n",
            "39\n",
            "Fizz\n",
            "41\n",
            "Buzz\n",
            "43\n",
            "Fizz\n",
            "45\n",
            "46\n",
            "47\n",
            "Fizz\n",
            "Buzz\n",
            "50\n"
          ],
          "name": "stdout"
        }
      ]
    }
  ]
}